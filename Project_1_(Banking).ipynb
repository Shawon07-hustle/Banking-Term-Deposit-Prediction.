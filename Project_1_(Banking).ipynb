{
  "cells": [
    {
      "cell_type": "code",
      "execution_count": 2,
      "metadata": {
        "id": "jkct31zlA43b"
      },
      "outputs": [],
      "source": [
        "import numpy as np\n",
        "import pandas as pd\n",
        "import matplotlib.pyplot as plt\n",
        "import seaborn as sns\n",
        "%matplotlib inline\n",
        "import warnings\n",
        "warnings.filterwarnings('ignore')"
      ]
    },
    {
      "cell_type": "code",
      "execution_count": 3,
      "metadata": {
        "id": "_fCqFxYBA43c"
      },
      "outputs": [],
      "source": [
        "from sklearn.preprocessing import LabelEncoder,MinMaxScaler,StandardScaler\n",
        "from sklearn.linear_model import LogisticRegression\n",
        "from sklearn.tree import DecisionTreeClassifier\n",
        "from sklearn.ensemble import GradientBoostingClassifier ,RandomForestClassifier \n",
        "from xgboost import XGBClassifier \n",
        "from sklearn.model_selection import GridSearchCV, RandomizedSearchCV\n",
        "from sklearn.linear_model import Ridge,Lasso\n",
        "from sklearn.metrics import roc_auc_score ,mean_squared_error,accuracy_score,classification_report,roc_curve,confusion_matrix\n",
        "import warnings\n",
        "warnings.filterwarnings('ignore')\n",
        "from scipy.stats.mstats import winsorize\n",
        "from sklearn.feature_selection import RFE\n",
        "from sklearn.model_selection import train_test_split\n",
        "pd.set_option('display.max_columns',None)\n",
        "import six\n",
        "import sys\n",
        "sys.modules['sklearn.externals.six'] = six"
      ]
    },
    {
      "cell_type": "code",
      "execution_count": 4,
      "metadata": {
        "id": "M7PZ85qWA43d"
      },
      "outputs": [],
      "source": [
        "dataframe= pd.read_csv(\"/content/preprocessed_data.csv\")"
      ]
    },
    {
      "cell_type": "code",
      "source": [],
      "metadata": {
        "id": "adxzrBp0B7vp"
      },
      "execution_count": 4,
      "outputs": []
    },
    {
      "cell_type": "code",
      "execution_count": 5,
      "metadata": {
        "colab": {
          "base_uri": "https://localhost:8080/",
          "height": 206
        },
        "id": "DAwqAeauA43d",
        "outputId": "2d4c730e-c8eb-42b1-e9ff-77aaae8f01f5"
      },
      "outputs": [
        {
          "output_type": "execute_result",
          "data": {
            "text/plain": [
              "   age  job  marital  education  default  housing  loan  contact  month  \\\n",
              "0   49    1        1          2        0        0     0        0      7   \n",
              "1   37    2        1          6        0        0     0        1      7   \n",
              "2   55    5        1          0        0        0     0        0      3   \n",
              "3   36    0        1          6        0        1     0        1      6   \n",
              "4   55    5        0          6        0        0     0        0      4   \n",
              "\n",
              "   day_of_week  duration  campaign  poutcome  y  \n",
              "0            4       227         4         1  0  \n",
              "1            4       202         2         0  0  \n",
              "2            1       550         1         1  1  \n",
              "3            1       120         2         1  0  \n",
              "4            3       368         2         1  0  "
            ],
            "text/html": [
              "\n",
              "  <div id=\"df-49c85d08-756d-4397-b2bf-47dd485e91ab\">\n",
              "    <div class=\"colab-df-container\">\n",
              "      <div>\n",
              "<style scoped>\n",
              "    .dataframe tbody tr th:only-of-type {\n",
              "        vertical-align: middle;\n",
              "    }\n",
              "\n",
              "    .dataframe tbody tr th {\n",
              "        vertical-align: top;\n",
              "    }\n",
              "\n",
              "    .dataframe thead th {\n",
              "        text-align: right;\n",
              "    }\n",
              "</style>\n",
              "<table border=\"1\" class=\"dataframe\">\n",
              "  <thead>\n",
              "    <tr style=\"text-align: right;\">\n",
              "      <th></th>\n",
              "      <th>age</th>\n",
              "      <th>job</th>\n",
              "      <th>marital</th>\n",
              "      <th>education</th>\n",
              "      <th>default</th>\n",
              "      <th>housing</th>\n",
              "      <th>loan</th>\n",
              "      <th>contact</th>\n",
              "      <th>month</th>\n",
              "      <th>day_of_week</th>\n",
              "      <th>duration</th>\n",
              "      <th>campaign</th>\n",
              "      <th>poutcome</th>\n",
              "      <th>y</th>\n",
              "    </tr>\n",
              "  </thead>\n",
              "  <tbody>\n",
              "    <tr>\n",
              "      <th>0</th>\n",
              "      <td>49</td>\n",
              "      <td>1</td>\n",
              "      <td>1</td>\n",
              "      <td>2</td>\n",
              "      <td>0</td>\n",
              "      <td>0</td>\n",
              "      <td>0</td>\n",
              "      <td>0</td>\n",
              "      <td>7</td>\n",
              "      <td>4</td>\n",
              "      <td>227</td>\n",
              "      <td>4</td>\n",
              "      <td>1</td>\n",
              "      <td>0</td>\n",
              "    </tr>\n",
              "    <tr>\n",
              "      <th>1</th>\n",
              "      <td>37</td>\n",
              "      <td>2</td>\n",
              "      <td>1</td>\n",
              "      <td>6</td>\n",
              "      <td>0</td>\n",
              "      <td>0</td>\n",
              "      <td>0</td>\n",
              "      <td>1</td>\n",
              "      <td>7</td>\n",
              "      <td>4</td>\n",
              "      <td>202</td>\n",
              "      <td>2</td>\n",
              "      <td>0</td>\n",
              "      <td>0</td>\n",
              "    </tr>\n",
              "    <tr>\n",
              "      <th>2</th>\n",
              "      <td>55</td>\n",
              "      <td>5</td>\n",
              "      <td>1</td>\n",
              "      <td>0</td>\n",
              "      <td>0</td>\n",
              "      <td>0</td>\n",
              "      <td>0</td>\n",
              "      <td>0</td>\n",
              "      <td>3</td>\n",
              "      <td>1</td>\n",
              "      <td>550</td>\n",
              "      <td>1</td>\n",
              "      <td>1</td>\n",
              "      <td>1</td>\n",
              "    </tr>\n",
              "    <tr>\n",
              "      <th>3</th>\n",
              "      <td>36</td>\n",
              "      <td>0</td>\n",
              "      <td>1</td>\n",
              "      <td>6</td>\n",
              "      <td>0</td>\n",
              "      <td>1</td>\n",
              "      <td>0</td>\n",
              "      <td>1</td>\n",
              "      <td>6</td>\n",
              "      <td>1</td>\n",
              "      <td>120</td>\n",
              "      <td>2</td>\n",
              "      <td>1</td>\n",
              "      <td>0</td>\n",
              "    </tr>\n",
              "    <tr>\n",
              "      <th>4</th>\n",
              "      <td>55</td>\n",
              "      <td>5</td>\n",
              "      <td>0</td>\n",
              "      <td>6</td>\n",
              "      <td>0</td>\n",
              "      <td>0</td>\n",
              "      <td>0</td>\n",
              "      <td>0</td>\n",
              "      <td>4</td>\n",
              "      <td>3</td>\n",
              "      <td>368</td>\n",
              "      <td>2</td>\n",
              "      <td>1</td>\n",
              "      <td>0</td>\n",
              "    </tr>\n",
              "  </tbody>\n",
              "</table>\n",
              "</div>\n",
              "      <button class=\"colab-df-convert\" onclick=\"convertToInteractive('df-49c85d08-756d-4397-b2bf-47dd485e91ab')\"\n",
              "              title=\"Convert this dataframe to an interactive table.\"\n",
              "              style=\"display:none;\">\n",
              "        \n",
              "  <svg xmlns=\"http://www.w3.org/2000/svg\" height=\"24px\"viewBox=\"0 0 24 24\"\n",
              "       width=\"24px\">\n",
              "    <path d=\"M0 0h24v24H0V0z\" fill=\"none\"/>\n",
              "    <path d=\"M18.56 5.44l.94 2.06.94-2.06 2.06-.94-2.06-.94-.94-2.06-.94 2.06-2.06.94zm-11 1L8.5 8.5l.94-2.06 2.06-.94-2.06-.94L8.5 2.5l-.94 2.06-2.06.94zm10 10l.94 2.06.94-2.06 2.06-.94-2.06-.94-.94-2.06-.94 2.06-2.06.94z\"/><path d=\"M17.41 7.96l-1.37-1.37c-.4-.4-.92-.59-1.43-.59-.52 0-1.04.2-1.43.59L10.3 9.45l-7.72 7.72c-.78.78-.78 2.05 0 2.83L4 21.41c.39.39.9.59 1.41.59.51 0 1.02-.2 1.41-.59l7.78-7.78 2.81-2.81c.8-.78.8-2.07 0-2.86zM5.41 20L4 18.59l7.72-7.72 1.47 1.35L5.41 20z\"/>\n",
              "  </svg>\n",
              "      </button>\n",
              "      \n",
              "  <style>\n",
              "    .colab-df-container {\n",
              "      display:flex;\n",
              "      flex-wrap:wrap;\n",
              "      gap: 12px;\n",
              "    }\n",
              "\n",
              "    .colab-df-convert {\n",
              "      background-color: #E8F0FE;\n",
              "      border: none;\n",
              "      border-radius: 50%;\n",
              "      cursor: pointer;\n",
              "      display: none;\n",
              "      fill: #1967D2;\n",
              "      height: 32px;\n",
              "      padding: 0 0 0 0;\n",
              "      width: 32px;\n",
              "    }\n",
              "\n",
              "    .colab-df-convert:hover {\n",
              "      background-color: #E2EBFA;\n",
              "      box-shadow: 0px 1px 2px rgba(60, 64, 67, 0.3), 0px 1px 3px 1px rgba(60, 64, 67, 0.15);\n",
              "      fill: #174EA6;\n",
              "    }\n",
              "\n",
              "    [theme=dark] .colab-df-convert {\n",
              "      background-color: #3B4455;\n",
              "      fill: #D2E3FC;\n",
              "    }\n",
              "\n",
              "    [theme=dark] .colab-df-convert:hover {\n",
              "      background-color: #434B5C;\n",
              "      box-shadow: 0px 1px 3px 1px rgba(0, 0, 0, 0.15);\n",
              "      filter: drop-shadow(0px 1px 2px rgba(0, 0, 0, 0.3));\n",
              "      fill: #FFFFFF;\n",
              "    }\n",
              "  </style>\n",
              "\n",
              "      <script>\n",
              "        const buttonEl =\n",
              "          document.querySelector('#df-49c85d08-756d-4397-b2bf-47dd485e91ab button.colab-df-convert');\n",
              "        buttonEl.style.display =\n",
              "          google.colab.kernel.accessAllowed ? 'block' : 'none';\n",
              "\n",
              "        async function convertToInteractive(key) {\n",
              "          const element = document.querySelector('#df-49c85d08-756d-4397-b2bf-47dd485e91ab');\n",
              "          const dataTable =\n",
              "            await google.colab.kernel.invokeFunction('convertToInteractive',\n",
              "                                                     [key], {});\n",
              "          if (!dataTable) return;\n",
              "\n",
              "          const docLinkHtml = 'Like what you see? Visit the ' +\n",
              "            '<a target=\"_blank\" href=https://colab.research.google.com/notebooks/data_table.ipynb>data table notebook</a>'\n",
              "            + ' to learn more about interactive tables.';\n",
              "          element.innerHTML = '';\n",
              "          dataTable['output_type'] = 'display_data';\n",
              "          await google.colab.output.renderOutput(dataTable, element);\n",
              "          const docLink = document.createElement('div');\n",
              "          docLink.innerHTML = docLinkHtml;\n",
              "          element.appendChild(docLink);\n",
              "        }\n",
              "      </script>\n",
              "    </div>\n",
              "  </div>\n",
              "  "
            ]
          },
          "metadata": {},
          "execution_count": 5
        }
      ],
      "source": [
        "dataframe.head()"
      ]
    },
    {
      "cell_type": "code",
      "execution_count": 6,
      "metadata": {
        "colab": {
          "base_uri": "https://localhost:8080/"
        },
        "id": "dFW354xCA43e",
        "outputId": "c8ada0e4-6820-4051-ccda-f3db8a3b81c6"
      },
      "outputs": [
        {
          "output_type": "stream",
          "name": "stdout",
          "text": [
            "Shape of the data is:  (32950, 14)\n"
          ]
        }
      ],
      "source": [
        "print('Shape of the data is: ',dataframe.shape)"
      ]
    },
    {
      "cell_type": "markdown",
      "metadata": {
        "id": "qATxFY2UA43e"
      },
      "source": [
        "**Preparing Training and Test Data**"
      ]
    },
    {
      "cell_type": "code",
      "execution_count": 7,
      "metadata": {
        "colab": {
          "base_uri": "https://localhost:8080/"
        },
        "id": "AKNAmk0EA43g",
        "outputId": "33992242-d7e2-4459-d972-eb84b4784a9e"
      },
      "outputs": [
        {
          "output_type": "execute_result",
          "data": {
            "text/plain": [
              "0    29238\n",
              "1     3712\n",
              "Name: y, dtype: int64"
            ]
          },
          "metadata": {},
          "execution_count": 7
        }
      ],
      "source": [
        "X = dataframe.iloc[:,:-1]\n",
        "\n",
        "# Target\n",
        "y = dataframe.iloc[:,-1]\n",
        "pd.value_counts(y)"
      ]
    },
    {
      "cell_type": "code",
      "execution_count": 8,
      "metadata": {
        "colab": {
          "base_uri": "https://localhost:8080/"
        },
        "id": "e4GR5jrSA43g",
        "outputId": "ce66ca19-46e2-4980-8745-18397ca7d44a"
      },
      "outputs": [
        {
          "output_type": "execute_result",
          "data": {
            "text/plain": [
              "((26360, 13), (6590, 13), (26360,), (6590,))"
            ]
          },
          "metadata": {},
          "execution_count": 8
        }
      ],
      "source": [
        "# Predictors\n",
        "X = dataframe.iloc[:,:-1]\n",
        "\n",
        "# Target\n",
        "y = dataframe.iloc[:,-1]\n",
        "pd.value_counts(y)\n",
        "\n",
        "# Dividing the data into train and test subsets\n",
        "x_train,x_val,y_train,y_val = train_test_split(X,y,test_size=0.2,random_state=42)\n",
        "x_train.shape,x_val.shape,y_train.shape,y_val.shape"
      ]
    },
    {
      "cell_type": "code",
      "execution_count": 9,
      "metadata": {
        "colab": {
          "base_uri": "https://localhost:8080/"
        },
        "id": "LU1Dj6p-A43h",
        "outputId": "93f5acd3-7816-4b49-c048-48eae153cfa8"
      },
      "outputs": [
        {
          "output_type": "execute_result",
          "data": {
            "text/plain": [
              "array([0, 0, 0, ..., 0, 0, 0])"
            ]
          },
          "metadata": {},
          "execution_count": 9
        }
      ],
      "source": [
        "# run Logistic Regression model\n",
        "model = LogisticRegression()\n",
        "# fitting the model\n",
        "model.fit(x_train, y_train)\n",
        "# predicting the values\n",
        "y_scores = model.predict(x_val)\n",
        "y_scores"
      ]
    },
    {
      "cell_type": "code",
      "execution_count": 10,
      "metadata": {
        "colab": {
          "base_uri": "https://localhost:8080/"
        },
        "id": "Cq6V69wbA43h",
        "outputId": "b3161345-9fd3-4912-9a86-ec8081edecb5"
      },
      "outputs": [
        {
          "output_type": "stream",
          "name": "stdout",
          "text": [
            "classification report :               precision    recall  f1-score   support\n",
            "\n",
            "           0       0.90      0.98      0.93      5798\n",
            "           1       0.50      0.17      0.25       792\n",
            "\n",
            "    accuracy                           0.88      6590\n",
            "   macro avg       0.70      0.57      0.59      6590\n",
            "weighted avg       0.85      0.88      0.85      6590\n",
            "\n"
          ]
        }
      ],
      "source": [
        "\n",
        "from sklearn.metrics import confusion_matrix\n",
        "from sklearn.metrics import classification_report\n",
        "clf_rpt = classification_report(y_val,y_scores)\n",
        "print(\"classification report :\", clf_rpt)"
      ]
    },
    {
      "cell_type": "code",
      "execution_count": 11,
      "metadata": {
        "colab": {
          "base_uri": "https://localhost:8080/",
          "height": 331
        },
        "id": "H6-6HV9_A43h",
        "outputId": "3e09a4ed-1a45-4c06-85cc-3bfd2ea821ee"
      },
      "outputs": [
        {
          "output_type": "stream",
          "name": "stdout",
          "text": [
            "AREA UNDER THE CURVE IS :  0.5714912578701817\n",
            "ROC_AUC_SCORE is 0.5714912578701817\n"
          ]
        },
        {
          "output_type": "display_data",
          "data": {
            "text/plain": [
              "<Figure size 432x288 with 1 Axes>"
            ],
            "image/png": "[encoded data removed]"
          },
          "metadata": {
            "needs_background": "light"
          }
        }
      ],
      "source": [
        "# getting the auc roc curve\n",
        "auc = roc_auc_score(y_val, y_scores)\n",
        "print(\"AREA UNDER THE CURVE IS : \", auc)\n",
        "# print('Classification Report:')\n",
        "# print(classification_report(y_val,y_scores))\n",
        "false_positive_rate, true_positive_rate, thresholds = roc_curve(y_val, y_scores)\n",
        "print('ROC_AUC_SCORE is',roc_auc_score(y_val, y_scores))\n",
        "    \n",
        "# #fpr, tpr, _ = roc_curve(y_test, predictions[:,1])\n",
        "    \n",
        "plt.plot(false_positive_rate, true_positive_rate)\n",
        "plt.xlabel('FPR')\n",
        "plt.ylabel('TPR')\n",
        "plt.title('ROC curve')\n",
        "plt.show()"
      ]
    },
    {
      "cell_type": "code",
      "execution_count": 13,
      "metadata": {
        "colab": {
          "base_uri": "https://localhost:8080/"
        },
        "id": "E8DlUXGgA43i",
        "outputId": "67d9d4e0-3969-42bd-a754-8d97010b4311"
      },
      "outputs": [
        {
          "output_type": "stream",
          "name": "stdout",
          "text": [
            "Looking in indexes: https://pypi.org/simple, https://us-python.pkg.dev/colab-wheels/public/simple/\n",
            "Collecting shap\n",
            "  Downloading shap-0.41.0-cp37-cp37m-manylinux_2_12_x86_64.manylinux2010_x86_64.whl (569 kB)\n",
            "\u001b[K     |████████████████████████████████| 569 kB 4.1 MB/s \n",
            "\u001b[?25hRequirement already satisfied: numpy in /usr/local/lib/python3.7/dist-packages (from shap) (1.21.6)\n",
            "Requirement already satisfied: numba in /usr/local/lib/python3.7/dist-packages (from shap) (0.56.0)\n",
            "Requirement already satisfied: scipy in /usr/local/lib/python3.7/dist-packages (from shap) (1.7.3)\n",
            "Requirement already satisfied: cloudpickle in /usr/local/lib/python3.7/dist-packages (from shap) (1.5.0)\n",
            "Requirement already satisfied: scikit-learn in /usr/local/lib/python3.7/dist-packages (from shap) (1.0.2)\n",
            "Requirement already satisfied: tqdm>4.25.0 in /usr/local/lib/python3.7/dist-packages (from shap) (4.64.0)\n",
            "Requirement already satisfied: pandas in /usr/local/lib/python3.7/dist-packages (from shap) (1.3.5)\n",
            "Requirement already satisfied: packaging>20.9 in /usr/local/lib/python3.7/dist-packages (from shap) (21.3)\n",
            "Collecting slicer==0.0.7\n",
            "  Downloading slicer-0.0.7-py3-none-any.whl (14 kB)\n",
            "Requirement already satisfied: pyparsing!=3.0.5,>=2.0.2 in /usr/local/lib/python3.7/dist-packages (from packaging>20.9->shap) (3.0.9)\n",
            "Requirement already satisfied: llvmlite<0.40,>=0.39.0dev0 in /usr/local/lib/python3.7/dist-packages (from numba->shap) (0.39.0)\n",
            "Requirement already satisfied: setuptools in /usr/local/lib/python3.7/dist-packages (from numba->shap) (57.4.0)\n",
            "Requirement already satisfied: importlib-metadata in /usr/local/lib/python3.7/dist-packages (from numba->shap) (4.12.0)\n",
            "Requirement already satisfied: typing-extensions>=3.6.4 in /usr/local/lib/python3.7/dist-packages (from importlib-metadata->numba->shap) (4.1.1)\n",
            "Requirement already satisfied: zipp>=0.5 in /usr/local/lib/python3.7/dist-packages (from importlib-metadata->numba->shap) (3.8.1)\n",
            "Requirement already satisfied: python-dateutil>=2.7.3 in /usr/local/lib/python3.7/dist-packages (from pandas->shap) (2.8.2)\n",
            "Requirement already satisfied: pytz>=2017.3 in /usr/local/lib/python3.7/dist-packages (from pandas->shap) (2022.2.1)\n",
            "Requirement already satisfied: six>=1.5 in /usr/local/lib/python3.7/dist-packages (from python-dateutil>=2.7.3->pandas->shap) (1.15.0)\n",
            "Requirement already satisfied: threadpoolctl>=2.0.0 in /usr/local/lib/python3.7/dist-packages (from scikit-learn->shap) (3.1.0)\n",
            "Requirement already satisfied: joblib>=0.11 in /usr/local/lib/python3.7/dist-packages (from scikit-learn->shap) (1.1.0)\n",
            "Installing collected packages: slicer, shap\n",
            "Successfully installed shap-0.41.0 slicer-0.0.7\n"
          ]
        }
      ],
      "source": [
        "pip install shap"
      ]
    },
    {
      "cell_type": "code",
      "execution_count": 14,
      "metadata": {
        "colab": {
          "base_uri": "https://localhost:8080/"
        },
        "id": "CndbYi5NA43i",
        "outputId": "d24ebabe-216e-4c5d-944b-b8010c54a1f7"
      },
      "outputs": [
        {
          "output_type": "execute_result",
          "data": {
            "text/plain": [
              "array([0, 1, 0, ..., 0, 0, 0])"
            ]
          },
          "metadata": {},
          "execution_count": 14
        }
      ],
      "source": [
        "# Run Decision Tree Classifier\n",
        "dtcmodel = DecisionTreeClassifier()\n",
        "\n",
        "dtcmodel.fit(x_train, y_train)\n",
        "y_scores = dtcmodel.predict(x_val)\n",
        "y_scores"
      ]
    },
    {
      "cell_type": "code",
      "execution_count": 15,
      "metadata": {
        "colab": {
          "base_uri": "https://localhost:8080/"
        },
        "id": "zocSlyb7A43j",
        "outputId": "1a043ab9-de6e-4153-bc0f-1a5ad52d9963"
      },
      "outputs": [
        {
          "output_type": "stream",
          "name": "stdout",
          "text": [
            "classification report :               precision    recall  f1-score   support\n",
            "\n",
            "           0       0.93      0.93      0.93      5798\n",
            "           1       0.47      0.46      0.46       792\n",
            "\n",
            "    accuracy                           0.87      6590\n",
            "   macro avg       0.70      0.69      0.69      6590\n",
            "weighted avg       0.87      0.87      0.87      6590\n",
            "\n"
          ]
        }
      ],
      "source": [
        "\n",
        "from sklearn.metrics import confusion_matrix\n",
        "from sklearn.metrics import classification_report\n",
        "clf_rpt = classification_report(y_val,y_scores)\n",
        "print(\"classification report :\", clf_rpt)"
      ]
    },
    {
      "cell_type": "code",
      "execution_count": 16,
      "metadata": {
        "colab": {
          "base_uri": "https://localhost:8080/",
          "height": 331
        },
        "id": "wStPtEhwA43j",
        "outputId": "3dc2a62a-64e0-4de0-c1b8-421461a7ca94"
      },
      "outputs": [
        {
          "output_type": "stream",
          "name": "stdout",
          "text": [
            "AREA UNDER THE CURVE IS :  0.6922883108421226\n",
            "ROC_AUC_SCORE is 0.6922883108421226\n"
          ]
        },
        {
          "output_type": "display_data",
          "data": {
            "text/plain": [
              "<Figure size 432x288 with 1 Axes>"
            ],
            "image/png": "[encoded data removed]"
          },
          "metadata": {
            "needs_background": "light"
          }
        }
      ],
      "source": [
        "# getting the auc roc curve\n",
        "auc = roc_auc_score(y_val, y_scores)\n",
        "print(\"AREA UNDER THE CURVE IS : \", auc)\n",
        "# print('Classification Report:')\n",
        "# print(classification_report(y_val,y_scores))\n",
        "false_positive_rate, true_positive_rate, thresholds = roc_curve(y_val, y_scores)\n",
        "print('ROC_AUC_SCORE is',roc_auc_score(y_val, y_scores))\n",
        "    \n",
        "#fpr, tpr, _ = roc_curve(y_test, predictions[:,1])\n",
        "    \n",
        "plt.plot(false_positive_rate, true_positive_rate)\n",
        "plt.xlabel('FPR')\n",
        "plt.ylabel('TPR')\n",
        "plt.title('ROC curve')\n",
        "plt.show()"
      ]
    },
    {
      "cell_type": "code",
      "execution_count": 17,
      "metadata": {
        "id": "MynrY7WWA43k"
      },
      "outputs": [],
      "source": [
        "# from sklearn import tree\n",
        "# from sklearn.tree import export_graphviz # display the tree within a Jupyter notebook\n",
        "# from IPython.display import SVG\n",
        "# from graphviz import Source\n",
        "# from IPython.display import display\n",
        "# from ipywidgets import interactive, IntSlider, FloatSlider, interact\n",
        "# import ipywidgets\n",
        "# from IPython.display import Image\n",
        "# from subprocess import call\n",
        "# import matplotlib.image as mpimg"
      ]
    },
    {
      "cell_type": "code",
      "execution_count": 18,
      "metadata": {
        "id": "3Da6z-21A43k"
      },
      "outputs": [],
      "source": [
        "# from sklearn.tree import DecisionTreeClassifier, export_graphviz\n",
        "# from sklearn import tree\n",
        "# from IPython.display import SVG\n",
        "# from graphviz import Source\n",
        "# from IPython.display import display"
      ]
    },
    {
      "cell_type": "code",
      "execution_count": 19,
      "metadata": {
        "id": "UMwJnkIWA43l"
      },
      "outputs": [],
      "source": [
        "# from sklearn.tree import plot_tree\n",
        "# import matplotlib.pyplot as plt\n"
      ]
    },
    {
      "cell_type": "code",
      "execution_count": 20,
      "metadata": {
        "id": "XNyxTDOMA43l"
      },
      "outputs": [],
      "source": [
        "# plot_tree(model, filled=True)\n",
        "# plt.title(\"Decision tree\")\n",
        "# plt.figure(figsize= (10,10)) \n",
        "# plt.show()\n"
      ]
    },
    {
      "cell_type": "code",
      "execution_count": 21,
      "metadata": {
        "id": "Y49ehnUzA43l"
      },
      "outputs": [],
      "source": [
        "# graph = Source(tree.export_graphviz(model, out_file=None\n",
        "#    , feature_names=x_train.columns, class_names=['0', '1'] \n",
        "#    , filled = True))\n",
        "# display(SVG(graph.pipe(format='svg')))"
      ]
    },
    {
      "cell_type": "code",
      "execution_count": 22,
      "metadata": {
        "id": "XM44ZPKNA43m"
      },
      "outputs": [],
      "source": [
        "# @interact\n",
        "# def plot_tree(crit=[\"gini\", \"entropy\"],\n",
        "#               split=[\"best\", \"random\"],\n",
        "#               depth=IntSlider(min=1,max=30,value=2, continuous_update=False),\n",
        "#               min_split=IntSlider(min=2,max=5,value=2, continuous_update=False),\n",
        "#               min_leaf=IntSlider(min=1,max=5,value=1, continuous_update=False)):\n",
        "    \n",
        "#     estimator = DecisionTreeClassifier(random_state=0,\n",
        "#                                        criterion=crit,\n",
        "#                                        splitter = split,\n",
        "#                                        max_depth = depth,\n",
        "#                                        min_samples_split=min_split,\n",
        "#                                        min_samples_leaf=min_leaf)\n",
        "#     estimator.fit(x_train, y_train)\n",
        "#     print('Decision Tree Training Accuracy: {:.3f}'.format(accuracy_score(y_train, estimator.predict(x_train))))\n",
        "#     print('Decision Tree Test Accuracy: {:.3f}'.format(accuracy_score(y_val, estimator.predict(x_val))))\n",
        "\n",
        "#     graph = Source(tree.export_graphviz(estimator,\n",
        "#                                         out_file=None,\n",
        "#                                         feature_names=x_train.columns,\n",
        "#                                         class_names=['0', '1'],\n",
        "#                                         filled = True))\n",
        "    \n",
        "#     display(Image(data=graph.pipe(format='png')))\n",
        "    \n",
        "#     return estimator"
      ]
    },
    {
      "cell_type": "code",
      "execution_count": 23,
      "metadata": {
        "id": "ZRQuKFy2A43m"
      },
      "outputs": [],
      "source": [
        "# run Random Forrest Classifier\n",
        "rfcmodel = RandomForestClassifier()\n",
        "\n",
        "rfcmodel.fit(x_train, y_train)\n",
        "y_scores = rfcmodel.predict(x_val)"
      ]
    },
    {
      "cell_type": "code",
      "execution_count": 24,
      "metadata": {
        "colab": {
          "base_uri": "https://localhost:8080/"
        },
        "id": "CjMxtFe7A43m",
        "outputId": "92aa3800-5ecf-42c5-b445-79de7f60429a"
      },
      "outputs": [
        {
          "output_type": "stream",
          "name": "stdout",
          "text": [
            "classification report :               precision    recall  f1-score   support\n",
            "\n",
            "           0       0.91      0.97      0.94      5798\n",
            "           1       0.62      0.34      0.44       792\n",
            "\n",
            "    accuracy                           0.90      6590\n",
            "   macro avg       0.77      0.65      0.69      6590\n",
            "weighted avg       0.88      0.90      0.88      6590\n",
            "\n"
          ]
        }
      ],
      "source": [
        "from sklearn.metrics import confusion_matrix\n",
        "from sklearn.metrics import classification_report\n",
        "clf_rpt = classification_report(y_val,y_scores)\n",
        "print(\"classification report :\", clf_rpt)"
      ]
    },
    {
      "cell_type": "code",
      "execution_count": 25,
      "metadata": {
        "colab": {
          "base_uri": "https://localhost:8080/",
          "height": 331
        },
        "id": "Ee1SJnsqA43n",
        "outputId": "172eac01-1641-4ed4-a74f-ecd6b63553be"
      },
      "outputs": [
        {
          "output_type": "stream",
          "name": "stdout",
          "text": [
            "AREA UNDER THE CURVE IS :  0.6541314315977993\n",
            "ROC_AUC_SCORE is 0.6541314315977993\n"
          ]
        },
        {
          "output_type": "display_data",
          "data": {
            "text/plain": [
              "<Figure size 432x288 with 1 Axes>"
            ],
            "image/png": "[encoded data removed]"
          },
          "metadata": {
            "needs_background": "light"
          }
        }
      ],
      "source": [
        "auc = roc_auc_score(y_val, y_scores)\n",
        "print(\"AREA UNDER THE CURVE IS : \", auc)\n",
        "false_positive_rate, true_positive_rate, thresholds = roc_curve(y_val, y_scores)\n",
        "print('ROC_AUC_SCORE is',roc_auc_score(y_val, y_scores))\n",
        "    \n",
        "#fpr, tpr, _ = roc_curve(y_test, predictions[:,1])\n",
        "    \n",
        "plt.plot(false_positive_rate, true_positive_rate)\n",
        "plt.xlabel('FPR')\n",
        "plt.ylabel('TPR')\n",
        "plt.title('ROC curve')\n",
        "plt.show()"
      ]
    },
    {
      "cell_type": "code",
      "execution_count": 26,
      "metadata": {
        "colab": {
          "base_uri": "https://localhost:8080/"
        },
        "id": "p5BuoYHBA43n",
        "outputId": "43f65073-b005-4c7e-b4e3-25c2c090ebae"
      },
      "outputs": [
        {
          "output_type": "stream",
          "name": "stdout",
          "text": [
            "Features  to be selected for Logistic Regression model are:\n",
            "['job', 'marital', 'education', 'housing', 'contact', 'day_of_week', 'campaign', 'poutcome']\n",
            "========================================================================================================================\n"
          ]
        }
      ],
      "source": [
        "from sklearn.feature_selection import RFE\n",
        "# Selecting 8 number of features\n",
        "#   selecting models\n",
        "models = LogisticRegression()\n",
        "#   using  rfe and selecting 8 features\n",
        "rfe = RFE(models,n_features_to_select=8, step=1)\n",
        "#   fitting the model\n",
        "rfe = rfe.fit(X,y)\n",
        "#   ranking features\n",
        "feature_ranking = pd.Series(rfe.ranking_, index=X.columns)\n",
        "plt.show()\n",
        "print('Features  to be selected for Logistic Regression model are:')\n",
        "print(feature_ranking[feature_ranking.values==1].index.tolist())\n",
        "print('===='*30)"
      ]
    },
    {
      "cell_type": "code",
      "execution_count": 27,
      "metadata": {
        "colab": {
          "base_uri": "https://localhost:8080/"
        },
        "id": "r7nyTkXQA43n",
        "outputId": "43aea932-afc9-42a1-f533-da97f9be9e51"
      },
      "outputs": [
        {
          "output_type": "stream",
          "name": "stdout",
          "text": [
            "Features  to be selected for Random Forrest Classifier are:\n",
            "['age', 'job', 'education', 'month', 'day_of_week', 'duration', 'campaign', 'poutcome']\n",
            "========================================================================================================================\n"
          ]
        }
      ],
      "source": [
        "# Selecting 8 number of features\n",
        "# Random Forrest classifier model\n",
        "models = RandomForestClassifier()\n",
        "#   using  rfe and selecting 8 features\n",
        "rfe = RFE(models,n_features_to_select=8,step = 1)\n",
        "#   fitting the model\n",
        "rfe = rfe.fit(X,y)\n",
        "#   ranking features\n",
        "feature_ranking = pd.Series(rfe.ranking_, index=X.columns)\n",
        "plt.show()\n",
        "print('Features  to be selected for Random Forrest Classifier are:')\n",
        "print(feature_ranking[feature_ranking.values==1].index.tolist())\n",
        "print('===='*30)"
      ]
    },
    {
      "cell_type": "code",
      "execution_count": 28,
      "metadata": {
        "colab": {
          "base_uri": "https://localhost:8080/",
          "height": 319
        },
        "id": "shTKlXHuA43o",
        "outputId": "5b2e0e1f-6b2f-4229-dcbb-5465b306f0cc"
      },
      "outputs": [
        {
          "output_type": "display_data",
          "data": {
            "text/plain": [
              "<Figure size 432x288 with 1 Axes>"
            ],
            "image/png": "[encoded data removed]"
          },
          "metadata": {
            "needs_background": "light"
          }
        }
      ],
      "source": [
        "# splitting the data into train and test data\n",
        "X_train, X_test, y_train, y_test = train_test_split(X, y, test_size=0.3, random_state=42, stratify=y)\n",
        "# selecting the data\n",
        "rfc = RandomForestClassifier(random_state=42)\n",
        "# fitting the data\n",
        "rfc.fit(X_train, y_train)\n",
        "# predicting the data\n",
        "y_pred = rfc.predict(X_test)\n",
        "# feature importances\n",
        "rfc_importances = pd.Series(rfc.feature_importances_, index=X.columns).sort_values().tail(10)\n",
        "# plotting bar chart according to feature importance\n",
        "rfc_importances.plot(kind='bar')\n",
        "plt.show()"
      ]
    },
    {
      "cell_type": "code",
      "execution_count": 29,
      "metadata": {
        "colab": {
          "base_uri": "https://localhost:8080/"
        },
        "id": "cCdhN2_SA43o",
        "outputId": "88a0f4f2-2a90-4c21-8b0a-19dabd6dd658"
      },
      "outputs": [
        {
          "output_type": "stream",
          "name": "stdout",
          "text": [
            "Best Parameters are: {'criterion': 'entropy', 'max_depth': 8, 'max_features': 'log2'}\n"
          ]
        }
      ],
      "source": [
        "# splitting the data\n",
        "x_train,x_val,y_train,y_val = train_test_split(X,y, test_size=0.3, random_state=42, stratify=y)\n",
        "# selecting the classifier\n",
        "rfc = RandomForestClassifier()\n",
        "# selecting the parameter\n",
        "param_grid = { \n",
        "'max_features': ['auto', 'sqrt', 'log2'],\n",
        "'max_depth' : [4,5,6,7,8],\n",
        "'criterion' :['gini', 'entropy']\n",
        "             }\n",
        "# using grid search with respective parameters\n",
        "grid_search_model = GridSearchCV(rfc, param_grid=param_grid)\n",
        "# fitting the model\n",
        "grid_search_model.fit(x_train, y_train)\n",
        "# printing the best parameters\n",
        "print('Best Parameters are:',grid_search_model.best_params_)"
      ]
    },
    {
      "cell_type": "code",
      "execution_count": 30,
      "metadata": {
        "id": "kc4UMc_FA43o"
      },
      "outputs": [],
      "source": [
        "from sklearn.metrics import roc_auc_score,roc_curve,classification_report\n",
        "from sklearn.model_selection import cross_val_score\n",
        "from imblearn.combine import SMOTETomek\n",
        "from imblearn.over_sampling import SMOTE\n",
        "from imblearn.under_sampling import NearMiss\n",
        "from yellowbrick.classifier import roc_auc"
      ]
    },
    {
      "cell_type": "code",
      "execution_count": 31,
      "metadata": {
        "colab": {
          "base_uri": "https://localhost:8080/",
          "height": 577
        },
        "id": "3XsuxWHMA43o",
        "outputId": "1f96a663-b7d4-45cb-8488-390b27d086c3"
      },
      "outputs": [
        {
          "output_type": "stream",
          "name": "stdout",
          "text": [
            "              precision    recall  f1-score   support\n",
            "\n",
            "           0       0.96      0.76      0.85      8723\n",
            "           1       0.29      0.74      0.42      1162\n",
            "\n",
            "    accuracy                           0.76      9885\n",
            "   macro avg       0.62      0.75      0.63      9885\n",
            "weighted avg       0.88      0.76      0.80      9885\n",
            "\n",
            "[[6642 2081]\n",
            " [ 307  855]]\n"
          ]
        },
        {
          "output_type": "display_data",
          "data": {
            "text/plain": [
              "<Figure size 576x396 with 1 Axes>"
            ],
            "image/png": "[encoded data removed]"
          },
          "metadata": {}
        }
      ],
      "source": [
        "# A function to use smote\n",
        "def grid_search_random_forrest_best(dataframe,target):\n",
        "    \n",
        "    # splitting the data\n",
        "    x_train,x_val,y_train,y_val = train_test_split(dataframe,target, test_size=0.3, random_state=42)\n",
        "    \n",
        "    # Applying Smote on train data for dealing with class imbalance\n",
        "    smote = SMOTETomek(random_state=42)\n",
        "    \n",
        "    X_sm, y_sm =  smote.fit_resample(x_train, y_train)\n",
        "    \n",
        "    rfc = RandomForestClassifier(n_estimators=11, max_features='auto', max_depth=8, criterion='entropy',random_state=42)\n",
        "    \n",
        "    rfc.fit(X_sm, y_sm)\n",
        "    y_pred = rfc.predict(x_val)\n",
        "    print(classification_report(y_val, y_pred))\n",
        "    print(confusion_matrix(y_val, y_pred))\n",
        "    visualizer = roc_auc(rfc,X_sm,y_sm,x_val,y_val)\n",
        "\n",
        "\n",
        "grid_search_random_forrest_best(X,y)"
      ]
    },
    {
      "cell_type": "code",
      "execution_count": 32,
      "metadata": {
        "colab": {
          "base_uri": "https://localhost:8080/",
          "height": 577
        },
        "id": "SxLyXH6UA43p",
        "outputId": "5975fba3-7b76-4069-ccce-ad8d194e6a83"
      },
      "outputs": [
        {
          "output_type": "stream",
          "name": "stdout",
          "text": [
            "              precision    recall  f1-score   support\n",
            "\n",
            "           0       0.96      0.82      0.88      8723\n",
            "           1       0.36      0.77      0.49      1162\n",
            "\n",
            "    accuracy                           0.81      9885\n",
            "   macro avg       0.66      0.79      0.69      9885\n",
            "weighted avg       0.89      0.81      0.84      9885\n",
            "\n",
            "[[7120 1603]\n",
            " [ 264  898]]\n"
          ]
        },
        {
          "output_type": "display_data",
          "data": {
            "text/plain": [
              "<Figure size 576x396 with 1 Axes>"
            ],
            "image/png": "[encoded data removed]"
          },
          "metadata": {}
        }
      ],
      "source": [
        "grid_search_random_forrest_best(X[['age', 'job', 'education', 'month', 'day_of_week', 'duration', 'campaign', 'poutcome']],y)"
      ]
    },
    {
      "cell_type": "markdown",
      "metadata": {
        "id": "0bIzQj4hA43p"
      },
      "source": [
        "**Ensembling**"
      ]
    },
    {
      "cell_type": "code",
      "execution_count": 33,
      "metadata": {
        "id": "6qtXo-XTA43p"
      },
      "outputs": [],
      "source": [
        "from sklearn.metrics import confusion_matrix\n",
        "from sklearn.ensemble import VotingClassifier\n",
        "\n",
        "\n",
        "# splitting the data  \n",
        "x_train,x_val,y_train,y_val = train_test_split(X, y, test_size=0.3, random_state=42)\n",
        "# using smote\n",
        "smote = SMOTE()\n",
        "X_sm, y_sm =  smote.fit_resample(x_train, y_train)\n",
        "# models to use for ensembling  \n",
        "model1 = RandomForestClassifier()\n",
        "model3 = GradientBoostingClassifier()\n",
        "model2 = LogisticRegression()\n",
        "# fitting the model\n",
        "model = VotingClassifier(estimators=[('rf', model1), ('lr', model2), ('xgb',model3)], voting='soft')\n",
        "model.fit(X_sm,y_sm)\n",
        "# predicting balues and getting the metrics\n",
        "y_pred = model.predict(x_val)"
      ]
    },
    {
      "cell_type": "code",
      "execution_count": 34,
      "metadata": {
        "colab": {
          "base_uri": "https://localhost:8080/",
          "height": 577
        },
        "id": "wju6Z3zpA43p",
        "outputId": "a2688f33-9d57-4ab5-961b-8b5657d2bb29"
      },
      "outputs": [
        {
          "output_type": "stream",
          "name": "stdout",
          "text": [
            "              precision    recall  f1-score   support\n",
            "\n",
            "           0       0.96      0.85      0.90      8723\n",
            "           1       0.39      0.70      0.50      1162\n",
            "\n",
            "    accuracy                           0.83      9885\n",
            "   macro avg       0.67      0.78      0.70      9885\n",
            "weighted avg       0.89      0.83      0.85      9885\n",
            "\n",
            "[[7427 1296]\n",
            " [ 345  817]]\n"
          ]
        },
        {
          "output_type": "display_data",
          "data": {
            "text/plain": [
              "<Figure size 576x396 with 1 Axes>"
            ],
            "image/png": "[encoded data removed]"
          },
          "metadata": {}
        }
      ],
      "source": [
        "print(classification_report(y_val, y_pred))\n",
        "print(confusion_matrix(y_val, y_pred))\n",
        "visualizer = roc_auc(model,X_sm,y_sm,x_val,y_val)"
      ]
    },
    {
      "cell_type": "code",
      "execution_count": 36,
      "metadata": {
        "colab": {
          "base_uri": "https://localhost:8080/",
          "height": 206
        },
        "id": "cOLkSizdA43p",
        "outputId": "078e22ca-bb89-40ab-ed5e-1ee3b7ff20e3"
      },
      "outputs": [
        {
          "output_type": "execute_result",
          "data": {
            "text/plain": [
              "   age           job   marital          education  default housing loan  \\\n",
              "0   49   blue-collar   married           basic.9y  unknown      no   no   \n",
              "1   37  entrepreneur   married  university.degree       no      no   no   \n",
              "2   78       retired   married           basic.4y       no      no   no   \n",
              "3   36        admin.   married  university.degree       no     yes   no   \n",
              "4   59       retired  divorced  university.degree       no      no   no   \n",
              "\n",
              "     contact month day_of_week  duration  campaign  pdays  previous  \\\n",
              "0   cellular   nov         wed       227         4    999         0   \n",
              "1  telephone   nov         wed       202         2    999         1   \n",
              "2   cellular   jul         mon      1148         1    999         0   \n",
              "3  telephone   may         mon       120         2    999         0   \n",
              "4   cellular   jun         tue       368         2    999         0   \n",
              "\n",
              "      poutcome    y  \n",
              "0  nonexistent   no  \n",
              "1      failure   no  \n",
              "2  nonexistent  yes  \n",
              "3  nonexistent   no  \n",
              "4  nonexistent   no  "
            ],
            "text/html": [
              "\n",
              "  <div id=\"df-816c74ab-d67f-458d-9a72-b7997ae97e3d\">\n",
              "    <div class=\"colab-df-container\">\n",
              "      <div>\n",
              "<style scoped>\n",
              "    .dataframe tbody tr th:only-of-type {\n",
              "        vertical-align: middle;\n",
              "    }\n",
              "\n",
              "    .dataframe tbody tr th {\n",
              "        vertical-align: top;\n",
              "    }\n",
              "\n",
              "    .dataframe thead th {\n",
              "        text-align: right;\n",
              "    }\n",
              "</style>\n",
              "<table border=\"1\" class=\"dataframe\">\n",
              "  <thead>\n",
              "    <tr style=\"text-align: right;\">\n",
              "      <th></th>\n",
              "      <th>age</th>\n",
              "      <th>job</th>\n",
              "      <th>marital</th>\n",
              "      <th>education</th>\n",
              "      <th>default</th>\n",
              "      <th>housing</th>\n",
              "      <th>loan</th>\n",
              "      <th>contact</th>\n",
              "      <th>month</th>\n",
              "      <th>day_of_week</th>\n",
              "      <th>duration</th>\n",
              "      <th>campaign</th>\n",
              "      <th>pdays</th>\n",
              "      <th>previous</th>\n",
              "      <th>poutcome</th>\n",
              "      <th>y</th>\n",
              "    </tr>\n",
              "  </thead>\n",
              "  <tbody>\n",
              "    <tr>\n",
              "      <th>0</th>\n",
              "      <td>49</td>\n",
              "      <td>blue-collar</td>\n",
              "      <td>married</td>\n",
              "      <td>basic.9y</td>\n",
              "      <td>unknown</td>\n",
              "      <td>no</td>\n",
              "      <td>no</td>\n",
              "      <td>cellular</td>\n",
              "      <td>nov</td>\n",
              "      <td>wed</td>\n",
              "      <td>227</td>\n",
              "      <td>4</td>\n",
              "      <td>999</td>\n",
              "      <td>0</td>\n",
              "      <td>nonexistent</td>\n",
              "      <td>no</td>\n",
              "    </tr>\n",
              "    <tr>\n",
              "      <th>1</th>\n",
              "      <td>37</td>\n",
              "      <td>entrepreneur</td>\n",
              "      <td>married</td>\n",
              "      <td>university.degree</td>\n",
              "      <td>no</td>\n",
              "      <td>no</td>\n",
              "      <td>no</td>\n",
              "      <td>telephone</td>\n",
              "      <td>nov</td>\n",
              "      <td>wed</td>\n",
              "      <td>202</td>\n",
              "      <td>2</td>\n",
              "      <td>999</td>\n",
              "      <td>1</td>\n",
              "      <td>failure</td>\n",
              "      <td>no</td>\n",
              "    </tr>\n",
              "    <tr>\n",
              "      <th>2</th>\n",
              "      <td>78</td>\n",
              "      <td>retired</td>\n",
              "      <td>married</td>\n",
              "      <td>basic.4y</td>\n",
              "      <td>no</td>\n",
              "      <td>no</td>\n",
              "      <td>no</td>\n",
              "      <td>cellular</td>\n",
              "      <td>jul</td>\n",
              "      <td>mon</td>\n",
              "      <td>1148</td>\n",
              "      <td>1</td>\n",
              "      <td>999</td>\n",
              "      <td>0</td>\n",
              "      <td>nonexistent</td>\n",
              "      <td>yes</td>\n",
              "    </tr>\n",
              "    <tr>\n",
              "      <th>3</th>\n",
              "      <td>36</td>\n",
              "      <td>admin.</td>\n",
              "      <td>married</td>\n",
              "      <td>university.degree</td>\n",
              "      <td>no</td>\n",
              "      <td>yes</td>\n",
              "      <td>no</td>\n",
              "      <td>telephone</td>\n",
              "      <td>may</td>\n",
              "      <td>mon</td>\n",
              "      <td>120</td>\n",
              "      <td>2</td>\n",
              "      <td>999</td>\n",
              "      <td>0</td>\n",
              "      <td>nonexistent</td>\n",
              "      <td>no</td>\n",
              "    </tr>\n",
              "    <tr>\n",
              "      <th>4</th>\n",
              "      <td>59</td>\n",
              "      <td>retired</td>\n",
              "      <td>divorced</td>\n",
              "      <td>university.degree</td>\n",
              "      <td>no</td>\n",
              "      <td>no</td>\n",
              "      <td>no</td>\n",
              "      <td>cellular</td>\n",
              "      <td>jun</td>\n",
              "      <td>tue</td>\n",
              "      <td>368</td>\n",
              "      <td>2</td>\n",
              "      <td>999</td>\n",
              "      <td>0</td>\n",
              "      <td>nonexistent</td>\n",
              "      <td>no</td>\n",
              "    </tr>\n",
              "  </tbody>\n",
              "</table>\n",
              "</div>\n",
              "      <button class=\"colab-df-convert\" onclick=\"convertToInteractive('df-816c74ab-d67f-458d-9a72-b7997ae97e3d')\"\n",
              "              title=\"Convert this dataframe to an interactive table.\"\n",
              "              style=\"display:none;\">\n",
              "        \n",
              "  <svg xmlns=\"http://www.w3.org/2000/svg\" height=\"24px\"viewBox=\"0 0 24 24\"\n",
              "       width=\"24px\">\n",
              "    <path d=\"M0 0h24v24H0V0z\" fill=\"none\"/>\n",
              "    <path d=\"M18.56 5.44l.94 2.06.94-2.06 2.06-.94-2.06-.94-.94-2.06-.94 2.06-2.06.94zm-11 1L8.5 8.5l.94-2.06 2.06-.94-2.06-.94L8.5 2.5l-.94 2.06-2.06.94zm10 10l.94 2.06.94-2.06 2.06-.94-2.06-.94-.94-2.06-.94 2.06-2.06.94z\"/><path d=\"M17.41 7.96l-1.37-1.37c-.4-.4-.92-.59-1.43-.59-.52 0-1.04.2-1.43.59L10.3 9.45l-7.72 7.72c-.78.78-.78 2.05 0 2.83L4 21.41c.39.39.9.59 1.41.59.51 0 1.02-.2 1.41-.59l7.78-7.78 2.81-2.81c.8-.78.8-2.07 0-2.86zM5.41 20L4 18.59l7.72-7.72 1.47 1.35L5.41 20z\"/>\n",
              "  </svg>\n",
              "      </button>\n",
              "      \n",
              "  <style>\n",
              "    .colab-df-container {\n",
              "      display:flex;\n",
              "      flex-wrap:wrap;\n",
              "      gap: 12px;\n",
              "    }\n",
              "\n",
              "    .colab-df-convert {\n",
              "      background-color: #E8F0FE;\n",
              "      border: none;\n",
              "      border-radius: 50%;\n",
              "      cursor: pointer;\n",
              "      display: none;\n",
              "      fill: #1967D2;\n",
              "      height: 32px;\n",
              "      padding: 0 0 0 0;\n",
              "      width: 32px;\n",
              "    }\n",
              "\n",
              "    .colab-df-convert:hover {\n",
              "      background-color: #E2EBFA;\n",
              "      box-shadow: 0px 1px 2px rgba(60, 64, 67, 0.3), 0px 1px 3px 1px rgba(60, 64, 67, 0.15);\n",
              "      fill: #174EA6;\n",
              "    }\n",
              "\n",
              "    [theme=dark] .colab-df-convert {\n",
              "      background-color: #3B4455;\n",
              "      fill: #D2E3FC;\n",
              "    }\n",
              "\n",
              "    [theme=dark] .colab-df-convert:hover {\n",
              "      background-color: #434B5C;\n",
              "      box-shadow: 0px 1px 3px 1px rgba(0, 0, 0, 0.15);\n",
              "      filter: drop-shadow(0px 1px 2px rgba(0, 0, 0, 0.3));\n",
              "      fill: #FFFFFF;\n",
              "    }\n",
              "  </style>\n",
              "\n",
              "      <script>\n",
              "        const buttonEl =\n",
              "          document.querySelector('#df-816c74ab-d67f-458d-9a72-b7997ae97e3d button.colab-df-convert');\n",
              "        buttonEl.style.display =\n",
              "          google.colab.kernel.accessAllowed ? 'block' : 'none';\n",
              "\n",
              "        async function convertToInteractive(key) {\n",
              "          const element = document.querySelector('#df-816c74ab-d67f-458d-9a72-b7997ae97e3d');\n",
              "          const dataTable =\n",
              "            await google.colab.kernel.invokeFunction('convertToInteractive',\n",
              "                                                     [key], {});\n",
              "          if (!dataTable) return;\n",
              "\n",
              "          const docLinkHtml = 'Like what you see? Visit the ' +\n",
              "            '<a target=\"_blank\" href=https://colab.research.google.com/notebooks/data_table.ipynb>data table notebook</a>'\n",
              "            + ' to learn more about interactive tables.';\n",
              "          element.innerHTML = '';\n",
              "          dataTable['output_type'] = 'display_data';\n",
              "          await google.colab.output.renderOutput(dataTable, element);\n",
              "          const docLink = document.createElement('div');\n",
              "          docLink.innerHTML = docLinkHtml;\n",
              "          element.appendChild(docLink);\n",
              "        }\n",
              "      </script>\n",
              "    </div>\n",
              "  </div>\n",
              "  "
            ]
          },
          "metadata": {},
          "execution_count": 36
        }
      ],
      "source": [
        "# Preprocessed Test File\n",
        "test = pd.read_csv('/content/new_train.csv')\n",
        "test.head()"
      ]
    },
    {
      "cell_type": "code",
      "execution_count": 51,
      "metadata": {
        "id": "VsUUG9TqA43q"
      },
      "outputs": [],
      "source": [
        "smote = SMOTE()\n",
        "\n",
        "X_sm, y_sm =  smote.fit_resample(x_train, y_train)\n",
        "\n",
        "\n",
        "rfc = RandomForestClassifier()\n",
        " # selecting the parameter\n",
        "param_grid = { \n",
        " 'max_features': ['auto', 'sqrt', 'log2'],\n",
        " 'max_depth' : [4,5,6,7,8],\n",
        " 'criterion' :['gini', 'entropy']\n",
        "              }\n",
        " # using grid search with respective parameters\n",
        "grid_search_model = GridSearchCV(rfc, param_grid=param_grid)\n",
        "\n",
        " # fitting the model\n",
        "grid_search_model.fit(X_sm, y_sm)\n",
        "    \n",
        " # Predict on the preprocessed test file\n",
        "y_pred = grid_search_model.predict(X_test)\n",
        "    \n",
        "prediction = pd.DataFrame(y_pred,columns=['y'])\n",
        "\n",
        "\n",
        "prediction.to_csv('submission.csv',index=False)"
      ]
    }
  ],
  "metadata": {
    "kernelspec": {
      "display_name": "Python 3.10.2 64-bit",
      "language": "python",
      "name": "python3"
    },
    "language_info": {
      "codemirror_mode": {
        "name": "ipython",
        "version": 3
      },
      "file_extension": ".py",
      "mimetype": "text/x-python",
      "name": "python",
      "nbconvert_exporter": "python",
      "pygments_lexer": "ipython3",
      "version": "3.10.2"
    },
    "vscode": {
      "interpreter": {
        "hash": "2469a70536e4d2335a2ea8907942d0699c37342a371ac185bdb5b0aa6f073890"
      }
    },
    "colab": {
      "provenance": []
    }
  },
  "nbformat": 4,
  "nbformat_minor": 0
}